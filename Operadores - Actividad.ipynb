{
 "cells": [
  {
   "cell_type": "markdown",
   "metadata": {},
   "source": [
    "## Operadores - Actividad"
   ]
  },
  {
   "cell_type": "markdown",
   "metadata": {},
   "source": [
    "1) Pedir al usuario dos números y mostrar por pantalla la suma de ellos."
   ]
  },
  {
   "cell_type": "code",
   "execution_count": 1,
   "metadata": {},
   "outputs": [
    {
     "name": "stdout",
     "output_type": "stream",
     "text": [
      "21\n"
     ]
    }
   ],
   "source": [
    "entrada_1 = input(\"Ingrese un valor aleatorio\")\n",
    "entrada_2 = input(\"Ingrese un segundo valor aleatorio\")\n",
    "print (int(entrada_1) + int(entrada_2))"
   ]
  },
  {
   "cell_type": "markdown",
   "metadata": {},
   "source": [
    "2) Calcular el perímetro y área de un rectángulo dada su base y su altura (el usuario debe introducir por teclado los dos valores)."
   ]
  },
  {
   "cell_type": "code",
   "execution_count": 5,
   "metadata": {},
   "outputs": [
    {
     "name": "stdout",
     "output_type": "stream",
     "text": [
      "Perímetro: 30 m\n",
      "Área: 50 m2\n"
     ]
    }
   ],
   "source": [
    "# Siendo el perímetro de un rectángulo = 2b + 2h, mientras que su área = b.h, entonces:\n",
    "entrada_base = input (\"Ingrese un valor aleatorio. Este será asignado a la base del rectángulo.\")\n",
    "entrada_altura = input (\"Ingrese un segundo valor aleatorio. Este será asignado a la altura del rectángulo.\")\n",
    "print (\"Perímetro:\", ((int(entrada_base)*2) + (int(entrada_altura)*2)), \"m\")\n",
    "print (\"Área:\", (int(entrada_base)*int(entrada_altura)), \"m2\")"
   ]
  },
  {
   "cell_type": "markdown",
   "metadata": {},
   "source": [
    "3) Calcular el resultado de elevar un número entero a otro número entero (por ejemplo, 5 elevado a 3 = 5^3 = 5*5*5)."
   ]
  },
  {
   "cell_type": "code",
   "execution_count": 7,
   "metadata": {},
   "outputs": [
    {
     "data": {
      "text/plain": [
       "144"
      ]
     },
     "execution_count": 7,
     "metadata": {},
     "output_type": "execute_result"
    }
   ],
   "source": [
    "12 ** 2"
   ]
  },
  {
   "cell_type": "markdown",
   "metadata": {},
   "source": [
    "4) Escribe un programa que convierta grados Celsius a grados Fahrenheit utilizando la fórmula: **F = (C * 9/5) + 32**"
   ]
  },
  {
   "cell_type": "code",
   "execution_count": 9,
   "metadata": {},
   "outputs": [
    {
     "name": "stdout",
     "output_type": "stream",
     "text": [
      "26 °C = 78.8 °F\n"
     ]
    }
   ],
   "source": [
    "entrada_térmica = input (\"Ingrese un valor de temperatura en grados Celsius. Este será convertido a grados Fahrenheit\")\n",
    "print (entrada_térmica, \"°C\", \"=\", (int(entrada_térmica)*9)/5 + 32, \"°F\")"
   ]
  },
  {
   "cell_type": "markdown",
   "metadata": {},
   "source": [
    "5) Pedir al usuario su edad y mostrar por pantalla si es mayor de edad o no. (Mayor de edad >= 18)"
   ]
  },
  {
   "cell_type": "code",
   "execution_count": 13,
   "metadata": {},
   "outputs": [
    {
     "name": "stdout",
     "output_type": "stream",
     "text": [
      "Edad ingresada: 19\n",
      "Mayoría de edad: True\n"
     ]
    }
   ],
   "source": [
    "entrada_edad = input (\"Ingrese su edad. El programa evaluará su mayoría de edad\")\n",
    "print (\"Edad ingresada:\", entrada_edad)\n",
    "print (\"Mayoría de edad:\", (int(entrada_edad) >= 18))"
   ]
  },
  {
   "cell_type": "markdown",
   "metadata": {},
   "source": [
    "6) Comprobar si el numero ingresado por el usuario es par o impar."
   ]
  },
  {
   "cell_type": "code",
   "execution_count": 17,
   "metadata": {},
   "outputs": [
    {
     "name": "stdout",
     "output_type": "stream",
     "text": [
      "Valor ingresado: 17\n",
      "¿Es par? -> False\n",
      "¿Es impar? -> True\n"
     ]
    }
   ],
   "source": [
    "entrada_comprobación = input (\"Ingrese un número aleatorio. El programa evaluará si este es un valor par o impar\")\n",
    "print (\"Valor ingresado:\", entrada_comprobación)\n",
    "print (\"¿Es par? ->\", int(entrada_comprobación)%2 == 0 )\n",
    "print (\"¿Es impar? ->\", int(entrada_comprobación)%2 != 0)"
   ]
  },
  {
   "cell_type": "markdown",
   "metadata": {},
   "source": [
    "7) Pedir al usuario que ingrese su dirección email y luego mostrar un mensaje indicando si la dirección es válida o no. Una dirección se considerará válida si contiene el símbolo \"@\"."
   ]
  },
  {
   "cell_type": "code",
   "execution_count": 18,
   "metadata": {},
   "outputs": [
    {
     "name": "stdout",
     "output_type": "stream",
     "text": [
      "Dirección ingresada: coolemail@email.com\n",
      "¿Es válida? -> True\n"
     ]
    }
   ],
   "source": [
    "entrada_email = input (\"Ingrese su dirección email. El programa evaluará si es válida o no.\")\n",
    "print (\"Dirección ingresada:\", entrada_email)\n",
    "print (\"¿Es válida? ->\", \"@\" in entrada_email)\n"
   ]
  },
  {
   "cell_type": "markdown",
   "metadata": {},
   "source": [
    "8) Dado un número de dos cifras, diseñe un algoritmo que permita obtener el número invertido. Ejemplo, si se introduce 23 que muestre 32. (Recordar que las cadenas pueden tratarse como listas de caracteres)."
   ]
  },
  {
   "cell_type": "code",
   "execution_count": 25,
   "metadata": {},
   "outputs": [
    {
     "name": "stdout",
     "output_type": "stream",
     "text": [
      "Valor original ingresado: 46\n",
      "Valor invertido: 64\n"
     ]
    }
   ],
   "source": [
    "entrada_número = input (\"Ingrese un valor aleatorio de 2 CIFRAS. El programa lo invertirá.\")\n",
    "print (\"Valor original ingresado:\", entrada_número)\n",
    "print (\"Valor invertido:\", entrada_número[::-1])"
   ]
  },
  {
   "cell_type": "markdown",
   "metadata": {},
   "source": [
    "9) Crea un programa que pida al usuario dos números y muestre True si ambos son mayores que 10."
   ]
  },
  {
   "cell_type": "code",
   "execution_count": 3,
   "metadata": {},
   "outputs": [
    {
     "name": "stdout",
     "output_type": "stream",
     "text": [
      "Valor 1 ingresado: 60\n",
      "Valor 2 ingresado: 43\n",
      "¿Son ambos valores mayores a 10? -> True\n"
     ]
    }
   ],
   "source": [
    "entrada_números1 = input (\"Ingrese un valor aleatorio.\")\n",
    "entrada_números2 = input (\"Ingese un segundo valor aleatorio\")\n",
    "print (\"Valor 1 ingresado:\", entrada_números1)\n",
    "print (\"Valor 2 ingresado:\", entrada_números2)\n",
    "print (\"¿Son ambos valores mayores a 10? ->\", (int(entrada_números1) > 10 and int(entrada_números2) > 10))\n"
   ]
  },
  {
   "cell_type": "markdown",
   "metadata": {},
   "source": [
    "10) Escribe un programa que verifique si un número ingresado por el usuario es divisible por 3 y por 5."
   ]
  },
  {
   "cell_type": "code",
   "execution_count": 5,
   "metadata": {},
   "outputs": [
    {
     "name": "stdout",
     "output_type": "stream",
     "text": [
      "Valor ingresado: 20\n",
      "¿Es divisible por 3? -> False\n",
      "¿Es divisible por 5? -> True\n"
     ]
    }
   ],
   "source": [
    "divisible_3_5 = input (\"Ingrese un valor aleatorio. El programa evaluará si este es divisible por 3 y por 5\")\n",
    "print (\"Valor ingresado:\", divisible_3_5)\n",
    "print (\"¿Es divisible por 3? ->\", int(divisible_3_5)%3 == 0)\n",
    "print (\"¿Es divisible por 5? ->\", int(divisible_3_5)%5 == 0)"
   ]
  },
  {
   "cell_type": "markdown",
   "metadata": {},
   "source": [
    "11) Utilizando la información del punto 5, preguntar al usuario si posee carnet de conducir, luego verificar si puede conducir un automóvil."
   ]
  },
  {
   "cell_type": "code",
   "execution_count": 9,
   "metadata": {},
   "outputs": [
    {
     "name": "stdout",
     "output_type": "stream",
     "text": [
      "Edad ingresada: 19\n",
      "Posesión de carnet de conducir: SI\n",
      "¿Apto para conducir? -> True\n"
     ]
    }
   ],
   "source": [
    "entrada_edad = input (\"Ingrese su edad. El programa evaluará su mayoría de edad\")\n",
    "posesión_de_carnet = input (\"¿Posee usted carnet de conducir? Responda con SI o NO, en MAYÚSCULAS.\")\n",
    "print (\"Edad ingresada:\", entrada_edad)\n",
    "print (\"Posesión de carnet de conducir:\", posesión_de_carnet)\n",
    "print (\"¿Apto para conducir? ->\", int(entrada_edad) >= 18 and posesión_de_carnet == \"SI\")\n",
    "\n"
   ]
  },
  {
   "cell_type": "markdown",
   "metadata": {},
   "source": [
    "12) Pide al usuario un número y verifica si es positivo y no es mayor que 100."
   ]
  },
  {
   "cell_type": "code",
   "execution_count": 10,
   "metadata": {},
   "outputs": [
    {
     "name": "stdout",
     "output_type": "stream",
     "text": [
      "Número ingresado: 70.63\n",
      "¿Comprendido entre el 0 y el 100? -> True\n"
     ]
    }
   ],
   "source": [
    "entrada_ej12 = input (\"Ingrese un número aleatorio. El programa evaluará si este está comprendido entre el 0 y el 100 (sin incluirlos)\")\n",
    "print (\"Número ingresado:\", float (entrada_ej12))\n",
    "print (\"¿Comprendido entre el 0 y el 100? ->\", float(entrada_ej12) > 0 and float(entrada_ej12) < 100)"
   ]
  },
  {
   "cell_type": "markdown",
   "metadata": {},
   "source": [
    "13) Crear un programa que valide si un número ingresado por el usuario es par y mayor que 20."
   ]
  },
  {
   "cell_type": "code",
   "execution_count": 14,
   "metadata": {},
   "outputs": [
    {
     "name": "stdout",
     "output_type": "stream",
     "text": [
      "Número ingresado: 8.0\n",
      "¿Es par y mayor a 20? -> False\n"
     ]
    }
   ],
   "source": [
    "entrada_ej13 = input (\"Ingrese un número aleatorio. El programa evaluará si este es par y mayor a 20 simultáneamente\")\n",
    "print (\"Número ingresado:\", float(entrada_ej13))\n",
    "print (\"¿Es par y mayor a 20? ->\", (float(entrada_ej13) %2 == 0 and float(entrada_ej13) > 20))"
   ]
  },
  {
   "cell_type": "markdown",
   "metadata": {},
   "source": [
    "14) Dada la variable **numero = 5**, realizar la operación necesaria para que número sea igual a 8. Luego imprimir en pantalla el nuevo valor de número y realizar una nueva operación para que el valor de número sea igual a 4 y mostrar en pantalla el nuevo valor."
   ]
  },
  {
   "cell_type": "code",
   "execution_count": 17,
   "metadata": {},
   "outputs": [
    {
     "name": "stdout",
     "output_type": "stream",
     "text": [
      "5\n",
      "8\n",
      "4.0\n"
     ]
    }
   ],
   "source": [
    "número = 5\n",
    "print (número)\n",
    "número += 3\n",
    "print (número)\n",
    "número /= 2\n",
    "print (número)"
   ]
  },
  {
   "cell_type": "markdown",
   "metadata": {},
   "source": [
    "15) Dadas las variables altura = \"10\" y base = 5, calcular el área de un triángulo y mostrar el resultado en pantalla. ¿Por qué el resultado es un error? ¿Cómo lo corregirías?"
   ]
  },
  {
   "cell_type": "code",
   "execution_count": 18,
   "metadata": {},
   "outputs": [
    {
     "ename": "TypeError",
     "evalue": "unsupported operand type(s) for /: 'str' and 'int'",
     "output_type": "error",
     "traceback": [
      "\u001b[1;31m---------------------------------------------------------------------------\u001b[0m",
      "\u001b[1;31mTypeError\u001b[0m                                 Traceback (most recent call last)",
      "Cell \u001b[1;32mIn[18], line 4\u001b[0m\n\u001b[0;32m      2\u001b[0m base \u001b[38;5;241m=\u001b[39m \u001b[38;5;241m5\u001b[39m\n\u001b[0;32m      3\u001b[0m \u001b[38;5;66;03m# Siendo el área del triángulo (b.h)/2, entonces:\u001b[39;00m\n\u001b[1;32m----> 4\u001b[0m \u001b[38;5;28mprint\u001b[39m (\u001b[38;5;124m\"\u001b[39m\u001b[38;5;124mÁrea del triángulo:\u001b[39m\u001b[38;5;124m\"\u001b[39m, (\u001b[43m(\u001b[49m\u001b[43mbase\u001b[49m\u001b[38;5;241;43m*\u001b[39;49m\u001b[43maltura\u001b[49m\u001b[43m)\u001b[49m\u001b[38;5;241;43m/\u001b[39;49m\u001b[38;5;241;43m2\u001b[39;49m))\n",
      "\u001b[1;31mTypeError\u001b[0m: unsupported operand type(s) for /: 'str' and 'int'"
     ]
    }
   ],
   "source": [
    "altura = \"10\"\n",
    "base = 5\n",
    "# Siendo el área del triángulo (b.h)/2, entonces:\n",
    "print (\"Área del triángulo:\", ((base*altura)/2))\n",
    "\n",
    "# Se debe al tipo de dato correspondiente a la variable \"altura\". No es posible concatenar un numero entero con un dato de tipo string.\n",
    "# Para una correcta ejecución, bastaría con modificar el tipo de dato de la variable altura y convertirlo en entero."
   ]
  },
  {
   "cell_type": "markdown",
   "metadata": {},
   "source": [
    "16) Crea un programa que calcule el promedio de tres calificaciones ingresadas por el usuario, y comprobar si el alumno aprobó o no (aprueba con nota mayor a 6)."
   ]
  },
  {
   "cell_type": "code",
   "execution_count": 19,
   "metadata": {},
   "outputs": [
    {
     "name": "stdout",
     "output_type": "stream",
     "text": [
      "Calificaciones ingresadas: 7.8 , 9.4 , 5.6\n",
      "Promedio obtenido: 7.599999999999999\n",
      "¿Aprueba? -> True\n"
     ]
    }
   ],
   "source": [
    "calificación_1 = input (\"Ingrese su calificación 1/3. EL programa evaluara su condición de aprobado.\")\n",
    "calificación_2 = input (\"Ingrese su calificación 2/3. EL programa evaluara su condición de aprobado.\")\n",
    "calificación_3 = input (\"Ingrese su calificación 3/3. EL programa evaluara su condición de aprobado.\")\n",
    "print (\"Calificaciones ingresadas:\", calificación_1, \",\", calificación_2, \",\", calificación_3 )\n",
    "promedio_obtenido = (float (calificación_1) + float (calificación_2) + float (calificación_3))/3\n",
    "print (\"Promedio obtenido:\", promedio_obtenido)\n",
    "print (\"¿Aprueba? ->\", promedio_obtenido > 6)\n"
   ]
  },
  {
   "cell_type": "markdown",
   "metadata": {},
   "source": [
    "17) Pide al usuario su edad y calcula cuántos días, horas y minutos ha vivido aproximadamente (asumiendo 365 días por año)."
   ]
  },
  {
   "cell_type": "code",
   "execution_count": 22,
   "metadata": {},
   "outputs": [
    {
     "name": "stdout",
     "output_type": "stream",
     "text": [
      "Edad ingresada: 19\n",
      "Días aproximados vividos: 6935 días\n",
      "Horas aproximadas vividas: 166440 horas\n",
      "Minutos aproximados vividos: 9986400 minutos\n"
     ]
    }
   ],
   "source": [
    "entrada_edad = input (\"Ingrese su edad. El programa calculará el tiempo aproximado que ha vivido.\")\n",
    "print (\"Edad ingresada:\", entrada_edad)\n",
    "print (\"Días aproximados vividos:\", int(entrada_edad)*365, \"días\")\n",
    "print (\"Horas aproximadas vividas:\", int(entrada_edad)*365*24, \"horas\")\n",
    "print (\"Minutos aproximados vividos:\", int(entrada_edad)*365*24*60, \"minutos\")"
   ]
  },
  {
   "cell_type": "markdown",
   "metadata": {},
   "source": [
    "18) Crea un programa que verifique si un número ingresado por el usuario es múltiplo de 4 y de 6 al mismo tiempo."
   ]
  },
  {
   "cell_type": "code",
   "execution_count": 23,
   "metadata": {},
   "outputs": [
    {
     "name": "stdout",
     "output_type": "stream",
     "text": [
      "Valor ingresado: 36\n",
      "¿Es múltiplo de 4 y 6 al mismo tiempo? -> True\n"
     ]
    }
   ],
   "source": [
    "entrada_ej18 = input (\"Ingrese un número aleatorio. El programa evaluará si es multiplo de 4 y 6 simultáneamente.\")\n",
    "print (\"Valor ingresado:\", entrada_ej18)\n",
    "print (\"¿Es múltiplo de 4 y 6 al mismo tiempo? ->\", float(entrada_ej18)%4 == 0 and float(entrada_ej18)%6 == 0)"
   ]
  },
  {
   "cell_type": "markdown",
   "metadata": {},
   "source": [
    "19) "
   ]
  }
 ],
 "metadata": {
  "kernelspec": {
   "display_name": "Python 3",
   "language": "python",
   "name": "python3"
  },
  "language_info": {
   "codemirror_mode": {
    "name": "ipython",
    "version": 3
   },
   "file_extension": ".py",
   "mimetype": "text/x-python",
   "name": "python",
   "nbconvert_exporter": "python",
   "pygments_lexer": "ipython3",
   "version": "3.12.2"
  }
 },
 "nbformat": 4,
 "nbformat_minor": 2
}
